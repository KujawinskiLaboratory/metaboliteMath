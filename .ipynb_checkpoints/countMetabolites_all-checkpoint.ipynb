{
 "cells": [
  {
   "cell_type": "markdown",
   "metadata": {},
   "source": [
    "#Chisholm / Prochlorococcus project\n",
    "##Use Python and its various libraries to link the KEGG compound information with pathways\n",
    "###KLongnecker, 4/27/2017\n",
    "Updated to use the compound data corrected for extraction efficiency for all compounds."
   ]
  },
  {
   "cell_type": "markdown",
   "metadata": {},
   "source": [
    "# Updating to work on counting all metabolites\n",
    "## address comment on BIOS-SCOPE four years paper\n",
    "### KL 8/3/2023"
   ]
  },
  {
   "cell_type": "code",
   "execution_count": 86,
   "metadata": {},
   "outputs": [],
   "source": [
    "#the -f does the reset without requiring user confirmations\n",
    "%reset -f"
   ]
  },
  {
   "cell_type": "code",
   "execution_count": 87,
   "metadata": {},
   "outputs": [],
   "source": [
    "import pandas as pd\n",
    "import numpy as np\n",
    "import re\n",
    "import os\n",
    "import glob\n",
    "import math\n",
    "from imp import reload\n",
    "import pdb\n",
    "from sklearn import preprocessing\n",
    "import seaborn as sns\n",
    "\n",
    "import palettable as pal\n",
    "import matplotlib.pyplot as plt\n",
    "import matplotlib as mpl \n",
    "mpl.rcParams['pdf.fonttype'] = 42\n",
    "\n",
    "from matplotlib_venn import venn2\n",
    "from matplotlib_venn import venn3\n",
    "from matplotlib_venn import venn3_unweighted\n",
    "\n",
    "from scipy.cluster import hierarchy as hc\n",
    "\n",
    "from Bio import SeqIO\n",
    "from Bio.KEGG.REST import *\n",
    "from Bio.KEGG.KGML import KGML_parser\n",
    "from Bio.Graphics.KGML_vis import KGMLCanvas\n",
    "from IPython.display import Image, HTML\n",
    "\n",
    "#used this to step into the function and debug it, also need line with Tracer()() \n",
    "from IPython.core.debugger import Tracer \n",
    "#os._exit(1) #this should get me out of the debugging...\n",
    "\n",
    "%matplotlib inline"
   ]
  },
  {
   "cell_type": "code",
   "execution_count": 88,
   "metadata": {},
   "outputs": [
    {
     "data": {
      "text/html": [
       "<div>\n",
       "<style scoped>\n",
       "    .dataframe tbody tr th:only-of-type {\n",
       "        vertical-align: middle;\n",
       "    }\n",
       "\n",
       "    .dataframe tbody tr th {\n",
       "        vertical-align: top;\n",
       "    }\n",
       "\n",
       "    .dataframe thead th {\n",
       "        text-align: right;\n",
       "    }\n",
       "</style>\n",
       "<table border=\"1\" class=\"dataframe\">\n",
       "  <thead>\n",
       "    <tr style=\"text-align: right;\">\n",
       "      <th></th>\n",
       "      <th>mtabNames</th>\n",
       "    </tr>\n",
       "    <tr>\n",
       "      <th>KEGG</th>\n",
       "      <th></th>\n",
       "    </tr>\n",
       "  </thead>\n",
       "  <tbody>\n",
       "    <tr>\n",
       "      <th>C00196</th>\n",
       "      <td>2-3-dihydroxybenzoic acid</td>\n",
       "    </tr>\n",
       "    <tr>\n",
       "      <th>C19675</th>\n",
       "      <td>2-3-dihydroxypropane1sulfonate</td>\n",
       "    </tr>\n",
       "    <tr>\n",
       "      <th>C08276</th>\n",
       "      <td>3-mercapto proprionate</td>\n",
       "    </tr>\n",
       "  </tbody>\n",
       "</table>\n",
       "</div>"
      ],
      "text/plain": [
       "                             mtabNames\n",
       "KEGG                                  \n",
       "C00196       2-3-dihydroxybenzoic acid\n",
       "C19675  2-3-dihydroxypropane1sulfonate\n",
       "C08276          3-mercapto proprionate"
      ]
     },
     "execution_count": 88,
     "metadata": {},
     "output_type": "execute_result"
    }
   ],
   "source": [
    "mtabFile = 'BIOSSCOPE_metabolites_complete.csv' #first column is KEGG C number\n",
    "mtabData=pd.read_csv(mtabFile, index_col='KEGG')\n",
    "mtabNames = pd.read_csv(mtabFile,index_col = 'KEGG',usecols = ['KEGG','mtabNames'])\n",
    "mtabNames.head(3)"
   ]
  },
  {
   "cell_type": "code",
   "execution_count": 119,
   "metadata": {},
   "outputs": [],
   "source": [
    "#have zeros for metabolites that are not in KEGG, need to delete the zeros for now...\n",
    "#compounds without KEGG numbers are: acetyltaurine, chitotriose\n",
    "#also remember that we have compounds with isomers, but only listing one KEGG number\n",
    "mtabPruned = mtabData.drop(['0'])"
   ]
  },
  {
   "cell_type": "markdown",
   "metadata": {},
   "source": [
    "Setup a few useful functions\n",
    "---"
   ]
  },
  {
   "cell_type": "code",
   "execution_count": 90,
   "metadata": {},
   "outputs": [],
   "source": [
    "#set up a function to get the list of compounds for a given pathway (must be defined as ko00140 NOT map00140)\n",
    "def getCfrom_ko(ko_id):\n",
    "    pathway_file = kegg_get(ko_id).read()  # query and read the pathway\n",
    "    compound_list = []\n",
    "\n",
    "    current_section = None\n",
    "    for line in pathway_file.rstrip().split(\"\\n\"):\n",
    "        section = line[:12].strip()  # section names are within 12 columns\n",
    "        if not section == \"\":\n",
    "            current_section = section\n",
    "        if current_section == \"COMPOUND\":\n",
    "            compound_identifiers = line[12:].split(\"; \")\n",
    "            t = compound_identifiers[0]\n",
    "            compound_id = t[0:6]\n",
    "\n",
    "            if not compound_id in compound_list:\n",
    "                compound_list.append(compound_id)\n",
    "    return compound_list"
   ]
  },
  {
   "cell_type": "code",
   "execution_count": 91,
   "metadata": {},
   "outputs": [],
   "source": [
    "#set up a function to get the list of K orthologues for a given pathway (must be defined as ko00140 NOT map00140)\n",
    "#for this project: can use the three digit code for the different Prochlorococcus strains\n",
    "def getKfrom_ko(ko_id):\n",
    "    pathway_file = kegg_get(ko_id).read()  # query and read the pathway\n",
    "    K_list = []\n",
    "\n",
    "    current_section = None\n",
    "    for line in pathway_file.rstrip().split(\"\\n\"):\n",
    "        section = line[:12].strip()  # section names are within 12 columns\n",
    "        if not section == \"\":\n",
    "            current_section = section\n",
    "        if current_section == \"ORTHOLOGY\":\n",
    "            K_identifiers = line[12:].split(\"; \")\n",
    "            t = K_identifiers[0]\n",
    "            K_id = t[0:6]\n",
    "\n",
    "            if not K_id in K_list:\n",
    "                K_list.append(K_id)\n",
    "    return K_list"
   ]
  },
  {
   "cell_type": "code",
   "execution_count": 92,
   "metadata": {},
   "outputs": [],
   "source": [
    "# A bit of code that will help us display the PDF output\n",
    "def PDF(filename):\n",
    "    return HTML('<iframe src=%s width=700 height=350></iframe>' % filename)"
   ]
  },
  {
   "cell_type": "code",
   "execution_count": 93,
   "metadata": {},
   "outputs": [],
   "source": [
    "#organize pathways into the groups defined in the BRITE file\n",
    "def ReadBRITEfile(briteFile):\n",
    "    forBrite = pd.DataFrame(columns = ['map','A','B','C','wholeThing'])\n",
    "    # set up the expressions to match each level in the BRITE hierarchy\n",
    "    \n",
    "    textA = re.compile(r'(^A<b>)(.+)(</b>)\\s*(.*)$')\n",
    "    textB = re.compile(r'(^B)\\s*(.*)$')\n",
    "    textC = re.compile(r'(\\d+)\\s*(.*)$')\n",
    "    #this relies on the fact that the rows are in order: A, with B subheadings, then C subheadings\n",
    "    setA = []\n",
    "    idxA = []\n",
    "\n",
    "    setB = []\n",
    "    setC = []\n",
    "\n",
    "    with open(briteFile) as f:\n",
    "        for idx,line in enumerate(f):\n",
    "            if line[0] != '#': #skip over the comments\n",
    "                mA = textA.search(line) \n",
    "                mB = textB.search(line) \n",
    "                mC = textC.search(line) \n",
    "                if mA:\n",
    "                    setA = mA.group(2)\n",
    "                    #house cleaning (probably c)\n",
    "                    idxA = idx\n",
    "                    forBrite.loc[idx,'A'] = setA\n",
    "                    forBrite.loc[idx,'wholeThing'] = line #using this as a double check for now\n",
    "                    #forBrite.loc[idx,'map'] = mC.group(1)\n",
    "                elif mB:\n",
    "                    setB = mB.group(2)\n",
    "                    forBrite.loc[idx,'A'] = setA\n",
    "                    forBrite.loc[idx,'B'] = setB\n",
    "                    forBrite.loc[idx,'wholeThing'] = line\n",
    "                    #forBrite.loc[idx,'map'] = mC.group(1)\n",
    "                elif mC:\n",
    "                    #Tracer()()\n",
    "                    setC = mC.group(2)\n",
    "                    forBrite.loc[idx,'A'] = setA\n",
    "                    forBrite.loc[idx,'B'] = setB\n",
    "                    forBrite.loc[idx,'C'] = setC\n",
    "                    forBrite.loc[idx,'wholeThing'] = line\n",
    "                    forBrite.loc[idx,'map'] = mC.group(1)\n",
    "\n",
    "    return forBrite"
   ]
  },
  {
   "cell_type": "code",
   "execution_count": 94,
   "metadata": {},
   "outputs": [],
   "source": [
    "#make a list....and remove the three digit header bc that will be unique to each strain\n",
    "def trimPath(pathwayString):\n",
    "    export_trimPath = []\n",
    "    current_section = None\n",
    "    for line in pathwayString.rstrip().split(\"\\n\"):\n",
    "        #tp = line[5:13] #this includes the three digit species code\n",
    "        tp = line[8:13]\n",
    "        export_trimPath.append(tp)\n",
    "    return export_trimPath\n",
    "\n",
    "#make a list....and remove the three digit header bc that will be unique to each strain\n",
    "def trimMap(importString):\n",
    "    export_trimMap = []\n",
    "    current_section = None\n",
    "    for line in importString.rstrip().split(\"\\n\"):\n",
    "        r = line.find('map')\n",
    "        tp = line[r : r+9]\n",
    "        export_trimMap.append(tp)\n",
    "    return export_trimMap\n",
    "\n",
    "#trim a pathway/compound list\n",
    "def trimCompounds(cpdString):\n",
    "    export_trimCpds = []\n",
    "    current_section = None\n",
    "    for line in cpdString.rstrip().split(\"\\n\"):\n",
    "        #print(line)\n",
    "        r = line.find('cpd')\n",
    "        tp = line[r + 4 : len(line)]\n",
    "        export_trimCpds.append(tp)\n",
    "    return export_trimCpds\n",
    "\n",
    "#make a list....and remove the three digit header bc that will be unique to each strain\n",
    "def trimPath(pathwayString):\n",
    "    export_trimPath = []\n",
    "    current_section = None\n",
    "    for line in pathwayString.rstrip().split(\"\\n\"):\n",
    "        #tp = line[5:13] #this includes the three digit species code\n",
    "        tp = line[8:13]\n",
    "        export_trimPath.append(tp)\n",
    "    return export_trimPath\n",
    "\n",
    "#make a list....and remove the three digit header bc that will be unique to each strain\n",
    "def trimGenes(geneString):\n",
    "    export_trimGenes = []\n",
    "    current_section = None\n",
    "    for line in geneString.rstrip().split(\"\\n\"):\n",
    "        #tp = line[5:13] #this includes the three digit species code\n",
    "        r = line.find('ko:')\n",
    "        tp = line[r+3 : r+9]\n",
    "        export_trimGenes.append(tp)\n",
    "    return export_trimGenes"
   ]
  },
  {
   "cell_type": "code",
   "execution_count": 95,
   "metadata": {},
   "outputs": [
    {
     "data": {
      "text/html": [
       "<div>\n",
       "<style scoped>\n",
       "    .dataframe tbody tr th:only-of-type {\n",
       "        vertical-align: middle;\n",
       "    }\n",
       "\n",
       "    .dataframe tbody tr th {\n",
       "        vertical-align: top;\n",
       "    }\n",
       "\n",
       "    .dataframe thead th {\n",
       "        text-align: right;\n",
       "    }\n",
       "</style>\n",
       "<table border=\"1\" class=\"dataframe\">\n",
       "  <thead>\n",
       "    <tr style=\"text-align: right;\">\n",
       "      <th></th>\n",
       "      <th>map</th>\n",
       "      <th>A</th>\n",
       "      <th>B</th>\n",
       "      <th>C</th>\n",
       "      <th>wholeThing</th>\n",
       "    </tr>\n",
       "  </thead>\n",
       "  <tbody>\n",
       "    <tr>\n",
       "      <th>5</th>\n",
       "      <td>01100</td>\n",
       "      <td>Metabolism</td>\n",
       "      <td>Global and overview maps</td>\n",
       "      <td>Metabolic pathways</td>\n",
       "      <td>C    01100  Metabolic pathways\\n</td>\n",
       "    </tr>\n",
       "    <tr>\n",
       "      <th>6</th>\n",
       "      <td>01110</td>\n",
       "      <td>Metabolism</td>\n",
       "      <td>Global and overview maps</td>\n",
       "      <td>Biosynthesis of secondary metabolites</td>\n",
       "      <td>C    01110  Biosynthesis of secondary metaboli...</td>\n",
       "    </tr>\n",
       "    <tr>\n",
       "      <th>7</th>\n",
       "      <td>01120</td>\n",
       "      <td>Metabolism</td>\n",
       "      <td>Global and overview maps</td>\n",
       "      <td>Microbial metabolism in diverse environments</td>\n",
       "      <td>C    01120  Microbial metabolism in diverse en...</td>\n",
       "    </tr>\n",
       "  </tbody>\n",
       "</table>\n",
       "</div>"
      ],
      "text/plain": [
       "     map           A                         B  \\\n",
       "5  01100  Metabolism  Global and overview maps   \n",
       "6  01110  Metabolism  Global and overview maps   \n",
       "7  01120  Metabolism  Global and overview maps   \n",
       "\n",
       "                                              C  \\\n",
       "5                            Metabolic pathways   \n",
       "6         Biosynthesis of secondary metabolites   \n",
       "7  Microbial metabolism in diverse environments   \n",
       "\n",
       "                                          wholeThing  \n",
       "5                   C    01100  Metabolic pathways\\n  \n",
       "6  C    01110  Biosynthesis of secondary metaboli...  \n",
       "7  C    01120  Microbial metabolism in diverse en...  "
      ]
     },
     "execution_count": 95,
     "metadata": {},
     "output_type": "execute_result"
    }
   ],
   "source": [
    "#go read in the file from KEGG\n",
    "D = glob.glob('br08901.keg') #from http://www.genome.jp/kegg-bin/get_htext?br08901.keg; 4/18/2017\n",
    "allBRITE=[]\n",
    "for idx,nof in enumerate(D):\n",
    "    allBRITE = ReadBRITEfile(nof)\n",
    "    \n",
    "prunedBRITE = allBRITE.dropna()\n",
    "prunedBRITE.head(3)"
   ]
  },
  {
   "cell_type": "code",
   "execution_count": 96,
   "metadata": {},
   "outputs": [
    {
     "data": {
      "text/html": [
       "<div>\n",
       "<style scoped>\n",
       "    .dataframe tbody tr th:only-of-type {\n",
       "        vertical-align: middle;\n",
       "    }\n",
       "\n",
       "    .dataframe tbody tr th {\n",
       "        vertical-align: top;\n",
       "    }\n",
       "\n",
       "    .dataframe thead th {\n",
       "        text-align: right;\n",
       "    }\n",
       "</style>\n",
       "<table border=\"1\" class=\"dataframe\">\n",
       "  <thead>\n",
       "    <tr style=\"text-align: right;\">\n",
       "      <th></th>\n",
       "      <th>map</th>\n",
       "      <th>A</th>\n",
       "      <th>B</th>\n",
       "      <th>C</th>\n",
       "      <th>wholeThing</th>\n",
       "    </tr>\n",
       "  </thead>\n",
       "  <tbody>\n",
       "    <tr>\n",
       "      <th>77</th>\n",
       "      <td>00410</td>\n",
       "      <td>Metabolism</td>\n",
       "      <td>Metabolism of other amino acids</td>\n",
       "      <td>beta-Alanine metabolism</td>\n",
       "      <td>C    00410  beta-Alanine metabolism\\n</td>\n",
       "    </tr>\n",
       "  </tbody>\n",
       "</table>\n",
       "</div>"
      ],
      "text/plain": [
       "      map           A                                B  \\\n",
       "77  00410  Metabolism  Metabolism of other amino acids   \n",
       "\n",
       "                          C                             wholeThing  \n",
       "77  beta-Alanine metabolism  C    00410  beta-Alanine metabolism\\n  "
      ]
     },
     "execution_count": 96,
     "metadata": {},
     "output_type": "execute_result"
    }
   ],
   "source": [
    "prunedBRITE[prunedBRITE.loc[:,'map']=='00410'] #check one"
   ]
  },
  {
   "cell_type": "code",
   "execution_count": 97,
   "metadata": {},
   "outputs": [
    {
     "data": {
      "text/plain": [
       "array(['Global and overview maps', 'Carbohydrate metabolism',\n",
       "       'Energy metabolism', 'Lipid metabolism', 'Nucleotide metabolism',\n",
       "       'Amino acid metabolism', 'Metabolism of other amino acids',\n",
       "       'Glycan biosynthesis and metabolism',\n",
       "       'Metabolism of cofactors and vitamins',\n",
       "       'Metabolism of terpenoids and polyketides',\n",
       "       'Biosynthesis of other secondary metabolites',\n",
       "       'Xenobiotics biodegradation and metabolism',\n",
       "       'Chemical structure transformation maps'], dtype=object)"
      ]
     },
     "execution_count": 97,
     "metadata": {},
     "output_type": "execute_result"
    }
   ],
   "source": [
    "#only want 'metabolism' biochemical pathways\n",
    "findM = prunedBRITE.loc[(prunedBRITE['A'] == 'Metabolism')]\n",
    "findU = findM.loc[:,'B']\n",
    "\n",
    "#really not that many pathway groups\n",
    "findU.unique()"
   ]
  },
  {
   "cell_type": "code",
   "execution_count": 98,
   "metadata": {},
   "outputs": [],
   "source": [
    "unMetabolismGroups = findU.unique()\n",
    "unMetabolismGroups = np.delete(unMetabolismGroups,(0),axis=0) #skip over the global and overview maps"
   ]
  },
  {
   "cell_type": "code",
   "execution_count": 99,
   "metadata": {},
   "outputs": [],
   "source": [
    "pathwayInfo = pd.DataFrame({'pGroup' : unMetabolismGroups,'nCpds' : np.nan,'nMeasure': np.nan})"
   ]
  },
  {
   "cell_type": "code",
   "execution_count": 100,
   "metadata": {},
   "outputs": [
    {
     "name": "stdout",
     "output_type": "stream",
     "text": [
      "invalid pathway at KEGG: ko01010\n",
      "invalid pathway at KEGG: ko01060\n",
      "invalid pathway at KEGG: ko01061\n",
      "invalid pathway at KEGG: ko01062\n",
      "invalid pathway at KEGG: ko01063\n",
      "invalid pathway at KEGG: ko01064\n",
      "invalid pathway at KEGG: ko01065\n",
      "invalid pathway at KEGG: ko01066\n",
      "invalid pathway at KEGG: ko01070\n"
     ]
    }
   ],
   "source": [
    "useCO = mtabPruned.index\n",
    "ProData= set(useCO)\n",
    "\n",
    "for oneGroup in unMetabolismGroups:\n",
    "    shortList = prunedBRITE.loc[(prunedBRITE['B']==oneGroup)]\n",
    "    onePath = shortList.loc[:,'map']\n",
    "    onePath_ann=[]\n",
    "\n",
    "    gatherAll = list()\n",
    "    gatherPro = pd.DataFrame()\n",
    "    \n",
    "    for item in onePath:\n",
    "        #onePath_ann.append('ko' + item)\n",
    "        usePathway = 'ko' + item\n",
    "        try:\n",
    "            mCpds = set(getCfrom_ko(usePathway))\n",
    "        except:\n",
    "            print('invalid pathway at KEGG: ' + usePathway)\n",
    "\n",
    "        #first, gather all compounds...\n",
    "        for cpd in mCpds:\n",
    "            if (cpd in gatherAll): #don't add to list if already there\n",
    "                pass\n",
    "            else:\n",
    "                gatherAll.append(cpd)\n",
    "\n",
    "        #now only count the ones in Pro\n",
    "        handh = mCpds.intersection(ProData)\n",
    "        for cpd in handh:\n",
    "            tm = mtabPruned.loc[cpd,:]\n",
    "            if (cpd in gatherPro.index): \n",
    "                pass\n",
    "            else: #only add the mtab if it is new...can have mtabs in multiple pathways\n",
    "                gatherPro = gatherPro.append(tm)\n",
    "\n",
    "    pathwayInfo.loc[(pathwayInfo['pGroup']==oneGroup),'nCpds'] = len(gatherAll)\n",
    "    pathwayInfo.loc[(pathwayInfo['pGroup']==oneGroup),'nMeasure'] = len(gatherPro)\n",
    "    \n",
    "    #export the list of compounds in each group for MATLAB\n",
    "    eDF = pd.DataFrame(gatherPro)\n",
    "    eDF.to_csv('compoundList_' + oneGroup + '.csv')"
   ]
  },
  {
   "cell_type": "markdown",
   "metadata": {},
   "source": [
    "Consider how prevalent each compound is within KEGG\n",
    "---"
   ]
  },
  {
   "cell_type": "code",
   "execution_count": 101,
   "metadata": {},
   "outputs": [],
   "source": [
    "#adapt the code to count the compounds in the TSQ data set"
   ]
  },
  {
   "cell_type": "code",
   "execution_count": 191,
   "metadata": {},
   "outputs": [
    {
     "data": {
      "text/html": [
       "<div>\n",
       "<style scoped>\n",
       "    .dataframe tbody tr th:only-of-type {\n",
       "        vertical-align: middle;\n",
       "    }\n",
       "\n",
       "    .dataframe tbody tr th {\n",
       "        vertical-align: top;\n",
       "    }\n",
       "\n",
       "    .dataframe thead th {\n",
       "        text-align: right;\n",
       "    }\n",
       "</style>\n",
       "<table border=\"1\" class=\"dataframe\">\n",
       "  <thead>\n",
       "    <tr style=\"text-align: right;\">\n",
       "      <th></th>\n",
       "      <th>mtabNames</th>\n",
       "      <th>KEGG</th>\n",
       "    </tr>\n",
       "  </thead>\n",
       "  <tbody>\n",
       "    <tr>\n",
       "      <th>0</th>\n",
       "      <td>2-3-dihydroxybenzoic acid</td>\n",
       "      <td>C00196</td>\n",
       "    </tr>\n",
       "    <tr>\n",
       "      <th>1</th>\n",
       "      <td>2-3-dihydroxypropane1sulfonate</td>\n",
       "      <td>C19675</td>\n",
       "    </tr>\n",
       "    <tr>\n",
       "      <th>2</th>\n",
       "      <td>3-mercapto proprionate</td>\n",
       "      <td>C08276</td>\n",
       "    </tr>\n",
       "    <tr>\n",
       "      <th>3</th>\n",
       "      <td>3-methyl-2-oxobutanoic acid</td>\n",
       "      <td>C00141</td>\n",
       "    </tr>\n",
       "    <tr>\n",
       "      <th>4</th>\n",
       "      <td>3-methyl-2-oxopentanoic acid</td>\n",
       "      <td>C00671</td>\n",
       "    </tr>\n",
       "    <tr>\n",
       "      <th>...</th>\n",
       "      <td>...</td>\n",
       "      <td>...</td>\n",
       "    </tr>\n",
       "    <tr>\n",
       "      <th>89</th>\n",
       "      <td>uracil pos</td>\n",
       "      <td>C00106</td>\n",
       "    </tr>\n",
       "    <tr>\n",
       "      <th>90</th>\n",
       "      <td>uridine 5-monophosphate pos</td>\n",
       "      <td>C00105</td>\n",
       "    </tr>\n",
       "    <tr>\n",
       "      <th>91</th>\n",
       "      <td>valine</td>\n",
       "      <td>C00183</td>\n",
       "    </tr>\n",
       "    <tr>\n",
       "      <th>92</th>\n",
       "      <td>xanthine pos</td>\n",
       "      <td>C00385</td>\n",
       "    </tr>\n",
       "    <tr>\n",
       "      <th>93</th>\n",
       "      <td>xanthosine neg</td>\n",
       "      <td>C01762</td>\n",
       "    </tr>\n",
       "  </tbody>\n",
       "</table>\n",
       "<p>94 rows × 2 columns</p>\n",
       "</div>"
      ],
      "text/plain": [
       "                         mtabNames    KEGG\n",
       "0        2-3-dihydroxybenzoic acid  C00196\n",
       "1   2-3-dihydroxypropane1sulfonate  C19675\n",
       "2           3-mercapto proprionate  C08276\n",
       "3      3-methyl-2-oxobutanoic acid  C00141\n",
       "4     3-methyl-2-oxopentanoic acid  C00671\n",
       "..                             ...     ...\n",
       "89                      uracil pos  C00106\n",
       "90     uridine 5-monophosphate pos  C00105\n",
       "91                          valine  C00183\n",
       "92                    xanthine pos  C00385\n",
       "93                  xanthosine neg  C01762\n",
       "\n",
       "[94 rows x 2 columns]"
      ]
     },
     "execution_count": 191,
     "metadata": {},
     "output_type": "execute_result"
    }
   ],
   "source": [
    "#this seems inefficient - but I have to reset the index, copy the KEGG column to a new column, and then make an\n",
    "#index that is numbers\n",
    "countReactions = mtabPruned.copy(deep=True)\n",
    "countReactions.reset_index()\n",
    "countReactions['KEGG'] = countReactions.index #copy KEGG column data to new column\n",
    "nr =len(countReactions)\n",
    "index = pd.Index(range(0,nr,1)) #range is start,stop,step\n",
    "countReactions = countReactions.set_index(index,drop=False)\n",
    "countReactions"
   ]
  },
  {
   "cell_type": "code",
   "execution_count": null,
   "metadata": {},
   "outputs": [],
   "source": [
    "#was countReactions.ix which has now (a/o 2022) been removed entirely; change to countReactions.loc\n",
    "for idx in range(0,len(countReactions)):\n",
    "    oneCpd = countReactions.loc[idx,'KEGG']\n",
    "    rnList = kegg_link('reaction',oneCpd).read() #now go get the compounds for that reaction\n",
    "    countReactions.loc[idx,'nReactions'] = len(rnList.splitlines())\n",
    "    \n",
    "    #now go count the pathways\n",
    "    rnList = kegg_link('pathway',oneCpd).read()\n",
    "    countReactions.loc[idx,'nPathways'] = len(rnList.splitlines())"
   ]
  },
  {
   "cell_type": "code",
   "execution_count": 33,
   "metadata": {},
   "outputs": [
    {
     "data": {
      "text/html": [
       "<div>\n",
       "<style scoped>\n",
       "    .dataframe tbody tr th:only-of-type {\n",
       "        vertical-align: middle;\n",
       "    }\n",
       "\n",
       "    .dataframe tbody tr th {\n",
       "        vertical-align: top;\n",
       "    }\n",
       "\n",
       "    .dataframe thead th {\n",
       "        text-align: right;\n",
       "    }\n",
       "</style>\n",
       "<table border=\"1\" class=\"dataframe\">\n",
       "  <thead>\n",
       "    <tr style=\"text-align: right;\">\n",
       "      <th></th>\n",
       "      <th>KEGG</th>\n",
       "      <th>nPathways</th>\n",
       "      <th>nReactions</th>\n",
       "    </tr>\n",
       "  </thead>\n",
       "  <tbody>\n",
       "    <tr>\n",
       "      <th>0</th>\n",
       "      <td>C00004</td>\n",
       "      <td>5</td>\n",
       "      <td>1005</td>\n",
       "    </tr>\n",
       "    <tr>\n",
       "      <th>1</th>\n",
       "      <td>C00019</td>\n",
       "      <td>13</td>\n",
       "      <td>517</td>\n",
       "    </tr>\n",
       "    <tr>\n",
       "      <th>2</th>\n",
       "      <td>C00021</td>\n",
       "      <td>5</td>\n",
       "      <td>457</td>\n",
       "    </tr>\n",
       "    <tr>\n",
       "      <th>3</th>\n",
       "      <td>C00020</td>\n",
       "      <td>28</td>\n",
       "      <td>310</td>\n",
       "    </tr>\n",
       "  </tbody>\n",
       "</table>\n",
       "</div>"
      ],
      "text/plain": [
       "     KEGG nPathways nReactions\n",
       "0  C00004         5       1005\n",
       "1  C00019        13        517\n",
       "2  C00021         5        457\n",
       "3  C00020        28        310"
      ]
     },
     "execution_count": 33,
     "metadata": {},
     "output_type": "execute_result"
    }
   ],
   "source": [
    "countReactions.sort_values(by = 'nReactions',ascending = False,inplace = True)\n",
    "countReactions.reset_index(drop=True,inplace = True)\n",
    "countReactions.head(4)"
   ]
  },
  {
   "cell_type": "code",
   "execution_count": 34,
   "metadata": {},
   "outputs": [],
   "source": [
    "#investigate one compound\n",
    "oneCpd = 'C00004'"
   ]
  },
  {
   "cell_type": "code",
   "execution_count": 35,
   "metadata": {},
   "outputs": [
    {
     "name": "stdout",
     "output_type": "stream",
     "text": [
      "5\n"
     ]
    }
   ],
   "source": [
    "#how many pathways? #or, linked to how many genes?\n",
    "rnList = kegg_link('pathway',oneCpd).read() #now go get the compounds for that reaction\n",
    "print(len(rnList.splitlines()))"
   ]
  },
  {
   "cell_type": "code",
   "execution_count": 36,
   "metadata": {},
   "outputs": [
    {
     "name": "stdout",
     "output_type": "stream",
     "text": [
      "1005\n"
     ]
    }
   ],
   "source": [
    "#how many pathways? #or, linked to how many genes?\n",
    "rnList = kegg_link('reaction',oneCpd).read() #now go get the compounds for that reaction\n",
    "print(len(rnList.splitlines()))"
   ]
  },
  {
   "cell_type": "code",
   "execution_count": 38,
   "metadata": {},
   "outputs": [
    {
     "data": {
      "text/html": [
       "<div>\n",
       "<style scoped>\n",
       "    .dataframe tbody tr th:only-of-type {\n",
       "        vertical-align: middle;\n",
       "    }\n",
       "\n",
       "    .dataframe tbody tr th {\n",
       "        vertical-align: top;\n",
       "    }\n",
       "\n",
       "    .dataframe thead th {\n",
       "        text-align: right;\n",
       "    }\n",
       "</style>\n",
       "<table border=\"1\" class=\"dataframe\">\n",
       "  <thead>\n",
       "    <tr style=\"text-align: right;\">\n",
       "      <th></th>\n",
       "      <th>KEGG</th>\n",
       "      <th>nPathways</th>\n",
       "      <th>nReactions</th>\n",
       "    </tr>\n",
       "  </thead>\n",
       "  <tbody>\n",
       "    <tr>\n",
       "      <th>64</th>\n",
       "      <td>C00864</td>\n",
       "      <td>6</td>\n",
       "      <td>7</td>\n",
       "    </tr>\n",
       "  </tbody>\n",
       "</table>\n",
       "</div>"
      ],
      "text/plain": [
       "      KEGG nPathways nReactions\n",
       "64  C00864         6          7"
      ]
     },
     "execution_count": 38,
     "metadata": {},
     "output_type": "execute_result"
    }
   ],
   "source": [
    "#pantothenic acid is C00864\n",
    "countReactions.loc[countReactions['KEGG']=='C00864']"
   ]
  },
  {
   "cell_type": "code",
   "execution_count": 39,
   "metadata": {},
   "outputs": [],
   "source": [
    "#make an abbreviated dataset for plotting: top ten compounds\n",
    "use = range(0,10)\n",
    "labels = countReactions.loc[use,'KEGG']\n",
    "tData = countReactions.loc[use]"
   ]
  },
  {
   "cell_type": "code",
   "execution_count": 40,
   "metadata": {},
   "outputs": [
    {
     "data": {
      "text/html": [
       "<div>\n",
       "<style scoped>\n",
       "    .dataframe tbody tr th:only-of-type {\n",
       "        vertical-align: middle;\n",
       "    }\n",
       "\n",
       "    .dataframe tbody tr th {\n",
       "        vertical-align: top;\n",
       "    }\n",
       "\n",
       "    .dataframe thead th {\n",
       "        text-align: right;\n",
       "    }\n",
       "</style>\n",
       "<table border=\"1\" class=\"dataframe\">\n",
       "  <thead>\n",
       "    <tr style=\"text-align: right;\">\n",
       "      <th></th>\n",
       "      <th>KEGG</th>\n",
       "      <th>nPathways</th>\n",
       "      <th>nReactions</th>\n",
       "    </tr>\n",
       "  </thead>\n",
       "  <tbody>\n",
       "    <tr>\n",
       "      <th>0</th>\n",
       "      <td>C00004</td>\n",
       "      <td>5</td>\n",
       "      <td>1005</td>\n",
       "    </tr>\n",
       "    <tr>\n",
       "      <th>1</th>\n",
       "      <td>C00019</td>\n",
       "      <td>13</td>\n",
       "      <td>517</td>\n",
       "    </tr>\n",
       "    <tr>\n",
       "      <th>2</th>\n",
       "      <td>C00021</td>\n",
       "      <td>5</td>\n",
       "      <td>457</td>\n",
       "    </tr>\n",
       "    <tr>\n",
       "      <th>3</th>\n",
       "      <td>C00020</td>\n",
       "      <td>28</td>\n",
       "      <td>310</td>\n",
       "    </tr>\n",
       "    <tr>\n",
       "      <th>4</th>\n",
       "      <td>C00026</td>\n",
       "      <td>39</td>\n",
       "      <td>297</td>\n",
       "    </tr>\n",
       "    <tr>\n",
       "      <th>5</th>\n",
       "      <td>C00025</td>\n",
       "      <td>52</td>\n",
       "      <td>212</td>\n",
       "    </tr>\n",
       "    <tr>\n",
       "      <th>6</th>\n",
       "      <td>C00042</td>\n",
       "      <td>32</td>\n",
       "      <td>191</td>\n",
       "    </tr>\n",
       "    <tr>\n",
       "      <th>7</th>\n",
       "      <td>C00051</td>\n",
       "      <td>10</td>\n",
       "      <td>95</td>\n",
       "    </tr>\n",
       "    <tr>\n",
       "      <th>8</th>\n",
       "      <td>C00073</td>\n",
       "      <td>16</td>\n",
       "      <td>80</td>\n",
       "    </tr>\n",
       "    <tr>\n",
       "      <th>9</th>\n",
       "      <td>C00097</td>\n",
       "      <td>23</td>\n",
       "      <td>50</td>\n",
       "    </tr>\n",
       "  </tbody>\n",
       "</table>\n",
       "</div>"
      ],
      "text/plain": [
       "     KEGG nPathways nReactions\n",
       "0  C00004         5       1005\n",
       "1  C00019        13        517\n",
       "2  C00021         5        457\n",
       "3  C00020        28        310\n",
       "4  C00026        39        297\n",
       "5  C00025        52        212\n",
       "6  C00042        32        191\n",
       "7  C00051        10         95\n",
       "8  C00073        16         80\n",
       "9  C00097        23         50"
      ]
     },
     "execution_count": 40,
     "metadata": {},
     "output_type": "execute_result"
    }
   ],
   "source": [
    "tData"
   ]
  },
  {
   "cell_type": "code",
   "execution_count": 41,
   "metadata": {},
   "outputs": [
    {
     "data": {
      "image/png": "[encoded data removed]",
      "text/plain": [
       "<Figure size 432x288 with 1 Axes>"
      ]
     },
     "metadata": {
      "needs_background": "light"
     },
     "output_type": "display_data"
    }
   ],
   "source": [
    "#ax = tData.plot(kind = 'barh',x = tData['KEGG'])\n",
    "#axs = tData.plot(kind = 'barh',x = mtabNames.loc[tData.loc[:,'KEGG'],'mtabNames'])\n",
    "axs = tData.plot(kind = 'barh')\n",
    "axs.set_yticklabels(mtabNames.loc[tData.loc[:,'KEGG'],'mtabNames'])\n",
    "axs.set_xlabel('# reactions or pathways')\n",
    "axs.invert_yaxis()\n",
    "plt.savefig('metabolites_topTen.pdf',bbox_inches='tight')"
   ]
  },
  {
   "cell_type": "code",
   "execution_count": null,
   "metadata": {},
   "outputs": [],
   "source": [
    "#or go nuts and plot the whole thing\n",
    "use = range(0,nr)\n",
    "labels = countReactions.loc[use,'KEGG']\n",
    "tData = countReactions.loc[use]\n",
    "\n",
    "axs = tData.plot(kind = 'barh')\n",
    "axs.set_yticklabels(mtabNames.loc[tData.loc[:,'KEGG'],'mtabNames'])\n",
    "axs.set_xlabel('# reactions or pathways')\n",
    "axs.invert_yaxis()\n",
    "plt.savefig('metabolites_topTen.pdf',bbox_inches='tight')"
   ]
  }
 ],
 "metadata": {
  "anaconda-cloud": {},
  "kernelspec": {
   "display_name": "Python 3 (ipykernel)",
   "language": "python",
   "name": "python3"
  },
  "language_info": {
   "codemirror_mode": {
    "name": "ipython",
    "version": 3
   },
   "file_extension": ".py",
   "mimetype": "text/x-python",
   "name": "python",
   "nbconvert_exporter": "python",
   "pygments_lexer": "ipython3",
   "version": "3.9.7"
  }
 },
 "nbformat": 4,
 "nbformat_minor": 1
}
